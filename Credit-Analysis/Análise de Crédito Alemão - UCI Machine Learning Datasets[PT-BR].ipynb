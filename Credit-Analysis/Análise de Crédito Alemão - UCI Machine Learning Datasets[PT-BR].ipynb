{
 "cells": [
  {
   "cell_type": "markdown",
   "metadata": {},
   "source": [
    "# Predição de Análise de Crédito - Marlysson Silva"
   ]
  },
  {
   "cell_type": "markdown",
   "metadata": {},
   "source": [
    "## Tabela de conteúdo\n",
    "\n",
    "- Conhecendo o dataset\n",
    "- Exploração do Dataset\n",
    "    - Tratamento dos dados\n",
    "    - Análise descritiva dos dados\n",
    "    - Visualizando agrupamentos\n",
    "    - Correlação entre variáveis\n",
    "- Predição\n",
    "    - Algoritmos\n",
    "        - Naive Bayes\n",
    "        - AdaBoost\n",
    "        - OneVsOne\n",
    "        - OneVsRest\n",
    "        - K-Folding\n",
    "        - Random Forest\n",
    "        - Logistic Regression"
   ]
  },
  {
   "cell_type": "markdown",
   "metadata": {},
   "source": [
    "## Conhecendo o dataset"
   ]
  },
  {
   "cell_type": "markdown",
   "metadata": {},
   "source": [
    "Essa análise se baseará no dataset fornecido pelo repositório de dados UCI Machile Learning Repository, onde pode ser encontrado direto através deste [link](https://archive.ics.uci.edu/ml/datasets/statlog+(german+credit+data))"
   ]
  },
  {
   "cell_type": "markdown",
   "metadata": {},
   "source": [
    "### Informações gerais"
   ]
  },
  {
   "cell_type": "markdown",
   "metadata": {},
   "source": [
    "**NOME:** Statlog (German Credit Data) Data Set\n",
    "\n",
    "**DESCRIÇÃO: ** Neste dataset da UCI Repository há o conjunto de dados a respeito da qualificação dos clientes de um banco alemão identificando-os como bons ou maus pagadores de empréstimos, ou seja, se são clientes confiáveis para que seja concedido a eles um montante de crédito, com a confiança de que não haverá calote por parte do cliente.\n",
    "\n",
    "**DIMENSIONALIDADE DO DATASET:** 1000 Linhas x 21 Colunas"
   ]
  },
  {
   "cell_type": "markdown",
   "metadata": {},
   "source": [
    "### Informações exploratórias"
   ]
  },
  {
   "cell_type": "markdown",
   "metadata": {},
   "source": [
    "> **COLUNAS DO DATASET E SEUS SIGNIFICADOS**"
   ]
  },
  {
   "cell_type": "markdown",
   "metadata": {},
   "source": [
    "1. **STATUS OF EXISTING CHECKING ACCOUNT :** Montante existente atualmente na conta.\n",
    "1. **DURATION IN MONTH :** Significa a duração em meses do empréstimo concedido.\n",
    "1. **CREDIT HISTORY :** Informações descritivas sobre o histórico financeiro do cliente. Se os créditos antigos dele estão quitados, se ainda está devendo, se até agora os créditos dele estão em bom estado.\n",
    "1. **PURPOSE :** Propósito destinado para o crédito concedido.\n",
    "1. **CREDIT AMOUNT :** Montante de crédito requisitado ao banco.\n",
    "1. **SAVINGS ACCOUNT/BOUNDS :** Montante guardado na conta poupança.\n",
    "1. **PRESENT EMPLOYMENT SINCE :** Tempo de empregado no atual emprego.\n",
    "1. **INSTALLMENT RATE IN PERCENTAGE OF DISPOSABLE INCOME :** Taxa de de prestação sobre o montante( rendimento ) que o cliente possui.\n",
    "1. **PERSONAL STATUS AND SEX :** Estado civil e sexo do cliente.\n",
    "1. **OTHERS DEBTORS/ GUARANTORS :** Tipo de associação em créditos concedidos que já participou.\n",
    "1. **PRESENT RESIDENCE SINCE :** Tempo de moradia na residência atual.\n",
    "1. **PROPERTY :** Propriedades que possui.\n",
    "1. **AGE IN YEARS :** Idade\n",
    "1. **OTHERS INSTALLMENT PLANS :** Outros empreendimentos que requerem pagamento de prestações.\n",
    "1. **HOUSING :** Tipo de propriedade da residência.\n",
    "1. **NUMBER OF EXISTING CREDITS AT THIS BANK :** Número de créditos já concedidos no banco.\n",
    "1. **JOB :** Estado do trabalho atual\n",
    "1. **NUMBER OF PEOPLE BEING LIABLE TO PROVIDE MAINTENANCE FOR :** Total de dependentes.\n",
    "1. **TELEPHONE :** Indicativo se o cliente possui telefone ou não.\n",
    "1. **FOREIGN WORKER :** Indicando se o cliente é de outra cidade ou se trabalha na mesma cidade do trabalho.\n",
    "1. **STATE RISK :** Coluna indicando se o cliente em questão é um bom cliente para permitir créditos ou não."
   ]
  },
  {
   "cell_type": "markdown",
   "metadata": {},
   "source": [
    "> **OBJETIVO DO DATASET E DA EXPLORAÇÃO DOS DADOS**"
   ]
  },
  {
   "cell_type": "markdown",
   "metadata": {},
   "source": [
    "Esse dataset possui alguns atributos com relação ao histórico de crédito do cliente, montante acumulado e algumas outras propriedades com relação à valores monetários.\n",
    "\n",
    "Com todos esses atributos, balanceando o nível de confiança do cliente é possível com a aplicação de algoritmos de aprendizagem de máquina descobrir se **há risco ou não com relação ao banco ter prejuízo ao conceder crédito à determinado tipo de cliente**."
   ]
  },
  {
   "cell_type": "markdown",
   "metadata": {},
   "source": [
    "# Exploração do Dataset"
   ]
  },
  {
   "cell_type": "code",
   "execution_count": 303,
   "metadata": {},
   "outputs": [],
   "source": [
    "import pandas as pd"
   ]
  },
  {
   "cell_type": "markdown",
   "metadata": {},
   "source": [
    "**OBS:** O dataset provido inicialmente há um problema de \"legibilidade\" , pois suas colunas não são nomeadas e seus valores estão preenchidos com valores que não dizem muita coisa sobre o que eles significam. Sabendo disso faremos:\n",
    "\n",
    "1. Um tratamento inicialmente nas colunas para identificá-las quanto ao que elas significam\n",
    "1. Mapeamento das siglas usadas para seus reais valores."
   ]
  },
  {
   "cell_type": "markdown",
   "metadata": {},
   "source": [
    "> **RENOMEANDO COLUNAS PARA UAM MELHOR VISUALIZAÇÃO**"
   ]
  },
  {
   "cell_type": "code",
   "execution_count": 304,
   "metadata": {},
   "outputs": [],
   "source": [
    "atributos = [\"montante\", \"duracao\", \"historico_credito\", \n",
    "              \"proposito\", \"montante_credito\", \"poupanca\",\n",
    "              \"tempo_empregado\",\"taxa_parcelamento\",\n",
    "              \"estado_civil_sexo\",\"tipo_participacao_credito\", \n",
    "              \"tempo_moradia\", \"propriedade\",\"idade\",\n",
    "              \"gastos_adicionais\", \"habitacao\",\"quantidade_creditos\",\"emprego\",\n",
    "              \"dependentes\",\"telefone\",\"trabalhador_estrangeiro\",\"risco\"]"
   ]
  },
  {
   "cell_type": "code",
   "execution_count": 305,
   "metadata": {},
   "outputs": [],
   "source": [
    "df = pd.read_csv(\"credit_approval.txt\",header=None, sep=\" \",names=atributos)"
   ]
  },
  {
   "cell_type": "code",
   "execution_count": 306,
   "metadata": {},
   "outputs": [
    {
     "data": {
      "text/html": [
       "<div>\n",
       "<style scoped>\n",
       "    .dataframe tbody tr th:only-of-type {\n",
       "        vertical-align: middle;\n",
       "    }\n",
       "\n",
       "    .dataframe tbody tr th {\n",
       "        vertical-align: top;\n",
       "    }\n",
       "\n",
       "    .dataframe thead th {\n",
       "        text-align: right;\n",
       "    }\n",
       "</style>\n",
       "<table border=\"1\" class=\"dataframe\">\n",
       "  <thead>\n",
       "    <tr style=\"text-align: right;\">\n",
       "      <th></th>\n",
       "      <th>montante</th>\n",
       "      <th>duracao</th>\n",
       "      <th>historico_credito</th>\n",
       "      <th>proposito</th>\n",
       "      <th>montante_credito</th>\n",
       "      <th>poupanca</th>\n",
       "      <th>tempo_empregado</th>\n",
       "      <th>taxa_parcelamento</th>\n",
       "      <th>estado_civil_sexo</th>\n",
       "      <th>tipo_participacao_credito</th>\n",
       "      <th>...</th>\n",
       "      <th>propriedade</th>\n",
       "      <th>idade</th>\n",
       "      <th>gastos_adicionais</th>\n",
       "      <th>habitacao</th>\n",
       "      <th>quantidade_creditos</th>\n",
       "      <th>emprego</th>\n",
       "      <th>dependentes</th>\n",
       "      <th>telefone</th>\n",
       "      <th>trabalhador_estrangeiro</th>\n",
       "      <th>risco</th>\n",
       "    </tr>\n",
       "  </thead>\n",
       "  <tbody>\n",
       "    <tr>\n",
       "      <th>0</th>\n",
       "      <td>A11</td>\n",
       "      <td>6</td>\n",
       "      <td>A34</td>\n",
       "      <td>A43</td>\n",
       "      <td>1169</td>\n",
       "      <td>A65</td>\n",
       "      <td>A75</td>\n",
       "      <td>4</td>\n",
       "      <td>A93</td>\n",
       "      <td>A101</td>\n",
       "      <td>...</td>\n",
       "      <td>A121</td>\n",
       "      <td>67</td>\n",
       "      <td>A143</td>\n",
       "      <td>A152</td>\n",
       "      <td>2</td>\n",
       "      <td>A173</td>\n",
       "      <td>1</td>\n",
       "      <td>A192</td>\n",
       "      <td>A201</td>\n",
       "      <td>1</td>\n",
       "    </tr>\n",
       "    <tr>\n",
       "      <th>1</th>\n",
       "      <td>A12</td>\n",
       "      <td>48</td>\n",
       "      <td>A32</td>\n",
       "      <td>A43</td>\n",
       "      <td>5951</td>\n",
       "      <td>A61</td>\n",
       "      <td>A73</td>\n",
       "      <td>2</td>\n",
       "      <td>A92</td>\n",
       "      <td>A101</td>\n",
       "      <td>...</td>\n",
       "      <td>A121</td>\n",
       "      <td>22</td>\n",
       "      <td>A143</td>\n",
       "      <td>A152</td>\n",
       "      <td>1</td>\n",
       "      <td>A173</td>\n",
       "      <td>1</td>\n",
       "      <td>A191</td>\n",
       "      <td>A201</td>\n",
       "      <td>2</td>\n",
       "    </tr>\n",
       "    <tr>\n",
       "      <th>2</th>\n",
       "      <td>A14</td>\n",
       "      <td>12</td>\n",
       "      <td>A34</td>\n",
       "      <td>A46</td>\n",
       "      <td>2096</td>\n",
       "      <td>A61</td>\n",
       "      <td>A74</td>\n",
       "      <td>2</td>\n",
       "      <td>A93</td>\n",
       "      <td>A101</td>\n",
       "      <td>...</td>\n",
       "      <td>A121</td>\n",
       "      <td>49</td>\n",
       "      <td>A143</td>\n",
       "      <td>A152</td>\n",
       "      <td>1</td>\n",
       "      <td>A172</td>\n",
       "      <td>2</td>\n",
       "      <td>A191</td>\n",
       "      <td>A201</td>\n",
       "      <td>1</td>\n",
       "    </tr>\n",
       "  </tbody>\n",
       "</table>\n",
       "<p>3 rows × 21 columns</p>\n",
       "</div>"
      ],
      "text/plain": [
       "  montante  duracao historico_credito proposito  montante_credito poupanca  \\\n",
       "0      A11        6               A34       A43              1169      A65   \n",
       "1      A12       48               A32       A43              5951      A61   \n",
       "2      A14       12               A34       A46              2096      A61   \n",
       "\n",
       "  tempo_empregado  taxa_parcelamento estado_civil_sexo  \\\n",
       "0             A75                  4               A93   \n",
       "1             A73                  2               A92   \n",
       "2             A74                  2               A93   \n",
       "\n",
       "  tipo_participacao_credito  ...   propriedade idade  gastos_adicionais  \\\n",
       "0                      A101  ...          A121    67               A143   \n",
       "1                      A101  ...          A121    22               A143   \n",
       "2                      A101  ...          A121    49               A143   \n",
       "\n",
       "  habitacao quantidade_creditos  emprego dependentes  telefone  \\\n",
       "0      A152                   2     A173           1      A192   \n",
       "1      A152                   1     A173           1      A191   \n",
       "2      A152                   1     A172           2      A191   \n",
       "\n",
       "  trabalhador_estrangeiro risco  \n",
       "0                    A201     1  \n",
       "1                    A201     2  \n",
       "2                    A201     1  \n",
       "\n",
       "[3 rows x 21 columns]"
      ]
     },
     "execution_count": 306,
     "metadata": {},
     "output_type": "execute_result"
    }
   ],
   "source": [
    "df.head(3)"
   ]
  },
  {
   "cell_type": "markdown",
   "metadata": {},
   "source": [
    "## Transformação dos dados - Limpando dados para melhor visualização"
   ]
  },
  {
   "cell_type": "markdown",
   "metadata": {},
   "source": [
    "> **Como o DATAFRAME não possuia os valores reais em suas células é necessário um processamento para visualizar as informações relacionadas ao DATAFRAME, como substituir legendas por valores reais, é isso que iremos fazer agora.**\n",
    "\n",
    "1. Mapear valores das células para melhor descrição\n",
    "2. Renomear todo o dataframe com essas associações"
   ]
  },
  {
   "cell_type": "code",
   "execution_count": 307,
   "metadata": {},
   "outputs": [],
   "source": [
    "codigos_historico_de_creditos = {\n",
    "    \"A30\": \"no credits taken/all credits paid back duly\",\n",
    "    \"A31\": \"all credits at this bank paid back duly\",\n",
    "    \"A32\": \"existing credits paid back duly till now\",\n",
    "    \"A33\": \"delay in paying off in the past\",\n",
    "    \"A34\": \"critical account/other credits existing (not at this bank)\"\n",
    "}\n",
    "\n",
    "codigos_proposito = {\n",
    "    \"A40\": \"car(new)\",\n",
    "    \"A41\": \"car(used)\",\n",
    "    \"A42\": \"furniture/equipment\",\n",
    "    \"A43\": \"radio/television\",\n",
    "    \"A44\": \"domestic appliances\",\n",
    "    \"A45\": \"repairs\",\n",
    "    \"A46\": \"education\",\n",
    "    \"A47\": \"vacation\",\n",
    "    \"A48\": \"retraining\",\n",
    "    \"A49\": \"business\",\n",
    "    \"A410\": \"others\"\n",
    "}\n",
    "\n",
    "codigo_estado_civil_sexo = {\n",
    "    \"A91\": \"male : divorced/separated\",\n",
    "    \"A92\": \"female : divorced/separated/married\",\n",
    "    \"A93\": \"male : single\",\n",
    "    \"A94\": \"male : married/windowed\",\n",
    "    \"A95\": \"female : single\"\n",
    "}\n",
    "\n",
    "codigos_outros_devedores = {\n",
    "    \"A101\": None,\n",
    "    \"A102\": \"co-applicant\",\n",
    "    \"A103\": \"guarantor\",\n",
    "}\n",
    "\n",
    "codigos_propriedade = {\n",
    "    \"A121\": \"real state\",\n",
    "    \"A122\": \"building society/life insurance\",\n",
    "    \"A123\": \"car\",\n",
    "    \"A124\": \"unknown/no property\"\n",
    "}\n",
    "\n",
    "codigos_planos_de_parcelamento = {\n",
    "    \"A141\": \"bank\",\n",
    "    \"A142\": \"stores\",\n",
    "    \"A143\": \"None\"\n",
    "}\n",
    "\n",
    "codigos_residencia = {\n",
    "    \"A151\": \"rent\",\n",
    "    \"A152\": \"own\",\n",
    "    \"A153\": \"for free\"\n",
    "}\n",
    "\n",
    "codigos_estado_emprego = {\n",
    "    \"A171\": \"unemployed/unskilled-non-resident\",\n",
    "    \"A172\": \"unskilled-resident\",\n",
    "    \"A173\": \"skilled employee/official\",\n",
    "    \"A174\": \"management/self-employed/highly qualified employee/officer\"\n",
    "}\n",
    "\n",
    "codigos_telefone = {\n",
    "    \"A191\": None,\n",
    "    \"A192\": \"yes\"\n",
    "}\n",
    "\n",
    "codigos_trabalhador_estrangeiro = {\n",
    "    \"A201\": \"yes\",\n",
    "    \"A202\": \"no\"\n",
    "}"
   ]
  },
  {
   "cell_type": "markdown",
   "metadata": {},
   "source": [
    "> **Mapeando variáveis contínuas**"
   ]
  },
  {
   "cell_type": "code",
   "execution_count": 308,
   "metadata": {},
   "outputs": [],
   "source": [
    "codigos_status_atual_conta_corrente = {\n",
    "    \"A11\": \"< 0\",\n",
    "    \"A12\": \"< 199\",\n",
    "    \"A13\": \">= 200\",\n",
    "    \"A14\": None\n",
    "}\n",
    "\n",
    "codigos_reserva_poupanca = {\n",
    "    \"A61\": \"< 100\",\n",
    "    \"A62\": \"< 499\",\n",
    "    \"A63\": \"< 999\",\n",
    "    \"A64\": \">= 1000\",\n",
    "    \"A65\": \"unknown\"\n",
    "}\n",
    "\n",
    "codigos_tempo_emprego = {\n",
    "    \"A71\": None,\n",
    "    \"A72\": \"< 1\", # Menos de 1 ano\n",
    "    \"A73\": \"< 4\", # Entre 1 ano e menos que 4 anos\n",
    "    \"A74\": \"< 7\", # Entre 4 anos e menos que 7 anos\n",
    "    \"A75\": \">= 7\" # Mais de 7 anos\n",
    "}"
   ]
  },
  {
   "cell_type": "code",
   "execution_count": 309,
   "metadata": {},
   "outputs": [],
   "source": [
    "colunas_para_codigos = {\n",
    "    \"montante\"             : codigos_status_atual_conta_corrente,\n",
    "    \"historico_credito\"    : codigos_historico_de_creditos,\n",
    "    \"proposito\"            : codigos_proposito,\n",
    "    \"poupanca\"             : codigos_reserva_poupanca,\n",
    "    \"tempo_empregado\"      : codigos_tempo_emprego,\n",
    "    \"estado_civil_sexo\"    : codigo_estado_civil_sexo, \n",
    "    \"tipo_participacao_credito\"     : codigos_outros_devedores,\n",
    "    \"propriedade\"          : codigos_propriedade,\n",
    "    \"gastos_adicionais\": codigos_planos_de_parcelamento,\n",
    "    \"habitacao\"            : codigos_residencia,\n",
    "    \"emprego\"              : codigos_estado_emprego,\n",
    "    \"telefone\"             : codigos_telefone,\n",
    "    \"trabalhador_estrangeiro\"  : codigos_trabalhador_estrangeiro\n",
    "}"
   ]
  },
  {
   "cell_type": "markdown",
   "metadata": {},
   "source": [
    "> **Mapeando cada colunas associando para seus respectivos valores**"
   ]
  },
  {
   "cell_type": "code",
   "execution_count": 310,
   "metadata": {},
   "outputs": [],
   "source": [
    "df.replace(colunas_para_codigos,inplace=True)"
   ]
  },
  {
   "cell_type": "code",
   "execution_count": 311,
   "metadata": {},
   "outputs": [
    {
     "data": {
      "text/html": [
       "<div>\n",
       "<style scoped>\n",
       "    .dataframe tbody tr th:only-of-type {\n",
       "        vertical-align: middle;\n",
       "    }\n",
       "\n",
       "    .dataframe tbody tr th {\n",
       "        vertical-align: top;\n",
       "    }\n",
       "\n",
       "    .dataframe thead th {\n",
       "        text-align: right;\n",
       "    }\n",
       "</style>\n",
       "<table border=\"1\" class=\"dataframe\">\n",
       "  <thead>\n",
       "    <tr style=\"text-align: right;\">\n",
       "      <th></th>\n",
       "      <th>montante</th>\n",
       "      <th>duracao</th>\n",
       "      <th>historico_credito</th>\n",
       "      <th>proposito</th>\n",
       "      <th>montante_credito</th>\n",
       "      <th>poupanca</th>\n",
       "      <th>tempo_empregado</th>\n",
       "      <th>taxa_parcelamento</th>\n",
       "      <th>estado_civil_sexo</th>\n",
       "      <th>tipo_participacao_credito</th>\n",
       "      <th>...</th>\n",
       "      <th>propriedade</th>\n",
       "      <th>idade</th>\n",
       "      <th>gastos_adicionais</th>\n",
       "      <th>habitacao</th>\n",
       "      <th>quantidade_creditos</th>\n",
       "      <th>emprego</th>\n",
       "      <th>dependentes</th>\n",
       "      <th>telefone</th>\n",
       "      <th>trabalhador_estrangeiro</th>\n",
       "      <th>risco</th>\n",
       "    </tr>\n",
       "  </thead>\n",
       "  <tbody>\n",
       "    <tr>\n",
       "      <th>0</th>\n",
       "      <td>&lt; 0</td>\n",
       "      <td>6</td>\n",
       "      <td>critical account/other credits existing (not a...</td>\n",
       "      <td>radio/television</td>\n",
       "      <td>1169</td>\n",
       "      <td>unknown</td>\n",
       "      <td>&gt;= 7</td>\n",
       "      <td>4</td>\n",
       "      <td>male : single</td>\n",
       "      <td>None</td>\n",
       "      <td>...</td>\n",
       "      <td>real state</td>\n",
       "      <td>67</td>\n",
       "      <td>None</td>\n",
       "      <td>own</td>\n",
       "      <td>2</td>\n",
       "      <td>skilled employee/official</td>\n",
       "      <td>1</td>\n",
       "      <td>yes</td>\n",
       "      <td>yes</td>\n",
       "      <td>1</td>\n",
       "    </tr>\n",
       "    <tr>\n",
       "      <th>1</th>\n",
       "      <td>&lt; 199</td>\n",
       "      <td>48</td>\n",
       "      <td>existing credits paid back duly till now</td>\n",
       "      <td>radio/television</td>\n",
       "      <td>5951</td>\n",
       "      <td>&lt; 100</td>\n",
       "      <td>&lt; 4</td>\n",
       "      <td>2</td>\n",
       "      <td>female : divorced/separated/married</td>\n",
       "      <td>None</td>\n",
       "      <td>...</td>\n",
       "      <td>real state</td>\n",
       "      <td>22</td>\n",
       "      <td>None</td>\n",
       "      <td>own</td>\n",
       "      <td>1</td>\n",
       "      <td>skilled employee/official</td>\n",
       "      <td>1</td>\n",
       "      <td>None</td>\n",
       "      <td>yes</td>\n",
       "      <td>2</td>\n",
       "    </tr>\n",
       "    <tr>\n",
       "      <th>2</th>\n",
       "      <td>None</td>\n",
       "      <td>12</td>\n",
       "      <td>critical account/other credits existing (not a...</td>\n",
       "      <td>education</td>\n",
       "      <td>2096</td>\n",
       "      <td>&lt; 100</td>\n",
       "      <td>&lt; 7</td>\n",
       "      <td>2</td>\n",
       "      <td>male : single</td>\n",
       "      <td>None</td>\n",
       "      <td>...</td>\n",
       "      <td>real state</td>\n",
       "      <td>49</td>\n",
       "      <td>None</td>\n",
       "      <td>own</td>\n",
       "      <td>1</td>\n",
       "      <td>unskilled-resident</td>\n",
       "      <td>2</td>\n",
       "      <td>None</td>\n",
       "      <td>yes</td>\n",
       "      <td>1</td>\n",
       "    </tr>\n",
       "  </tbody>\n",
       "</table>\n",
       "<p>3 rows × 21 columns</p>\n",
       "</div>"
      ],
      "text/plain": [
       "  montante  duracao                                  historico_credito  \\\n",
       "0      < 0        6  critical account/other credits existing (not a...   \n",
       "1    < 199       48           existing credits paid back duly till now   \n",
       "2     None       12  critical account/other credits existing (not a...   \n",
       "\n",
       "          proposito  montante_credito poupanca tempo_empregado  \\\n",
       "0  radio/television              1169  unknown            >= 7   \n",
       "1  radio/television              5951    < 100             < 4   \n",
       "2         education              2096    < 100             < 7   \n",
       "\n",
       "   taxa_parcelamento                    estado_civil_sexo  \\\n",
       "0                  4                        male : single   \n",
       "1                  2  female : divorced/separated/married   \n",
       "2                  2                        male : single   \n",
       "\n",
       "  tipo_participacao_credito  ...   propriedade idade  gastos_adicionais  \\\n",
       "0                      None  ...    real state    67               None   \n",
       "1                      None  ...    real state    22               None   \n",
       "2                      None  ...    real state    49               None   \n",
       "\n",
       "  habitacao quantidade_creditos                    emprego dependentes  \\\n",
       "0       own                   2  skilled employee/official           1   \n",
       "1       own                   1  skilled employee/official           1   \n",
       "2       own                   1         unskilled-resident           2   \n",
       "\n",
       "   telefone trabalhador_estrangeiro risco  \n",
       "0       yes                     yes     1  \n",
       "1      None                     yes     2  \n",
       "2      None                     yes     1  \n",
       "\n",
       "[3 rows x 21 columns]"
      ]
     },
     "execution_count": 311,
     "metadata": {},
     "output_type": "execute_result"
    }
   ],
   "source": [
    "df.head(3)"
   ]
  },
  {
   "cell_type": "code",
   "execution_count": 312,
   "metadata": {},
   "outputs": [],
   "source": [
    "df.replace({\"unknown\":None},inplace=True)"
   ]
  },
  {
   "cell_type": "markdown",
   "metadata": {},
   "source": [
    "> **TIPOS DAS COLUNAS DO DATASET**"
   ]
  },
  {
   "cell_type": "code",
   "execution_count": 313,
   "metadata": {},
   "outputs": [
    {
     "data": {
      "text/plain": [
       "montante                     object\n",
       "duracao                       int64\n",
       "historico_credito            object\n",
       "proposito                    object\n",
       "montante_credito              int64\n",
       "poupanca                     object\n",
       "tempo_empregado              object\n",
       "taxa_parcelamento             int64\n",
       "estado_civil_sexo            object\n",
       "tipo_participacao_credito    object\n",
       "tempo_moradia                 int64\n",
       "propriedade                  object\n",
       "idade                         int64\n",
       "gastos_adicionais            object\n",
       "habitacao                    object\n",
       "quantidade_creditos           int64\n",
       "emprego                      object\n",
       "dependentes                   int64\n",
       "telefone                     object\n",
       "trabalhador_estrangeiro      object\n",
       "risco                         int64\n",
       "dtype: object"
      ]
     },
     "execution_count": 313,
     "metadata": {},
     "output_type": "execute_result"
    }
   ],
   "source": [
    "df.dtypes"
   ]
  },
  {
   "cell_type": "markdown",
   "metadata": {},
   "source": [
    "> **EXPLORAÇÃO DOS CAMPOS NULOS**"
   ]
  },
  {
   "cell_type": "code",
   "execution_count": 314,
   "metadata": {},
   "outputs": [
    {
     "name": "stdout",
     "output_type": "stream",
     "text": [
      "<class 'pandas.core.frame.DataFrame'>\n",
      "RangeIndex: 1000 entries, 0 to 999\n",
      "Data columns (total 21 columns):\n",
      "montante                     606 non-null object\n",
      "duracao                      1000 non-null int64\n",
      "historico_credito            1000 non-null object\n",
      "proposito                    1000 non-null object\n",
      "montante_credito             1000 non-null int64\n",
      "poupanca                     817 non-null object\n",
      "tempo_empregado              938 non-null object\n",
      "taxa_parcelamento            1000 non-null int64\n",
      "estado_civil_sexo            1000 non-null object\n",
      "tipo_participacao_credito    93 non-null object\n",
      "tempo_moradia                1000 non-null int64\n",
      "propriedade                  1000 non-null object\n",
      "idade                        1000 non-null int64\n",
      "gastos_adicionais            1000 non-null object\n",
      "habitacao                    1000 non-null object\n",
      "quantidade_creditos          1000 non-null int64\n",
      "emprego                      1000 non-null object\n",
      "dependentes                  1000 non-null int64\n",
      "telefone                     404 non-null object\n",
      "trabalhador_estrangeiro      1000 non-null object\n",
      "risco                        1000 non-null int64\n",
      "dtypes: int64(8), object(13)\n",
      "memory usage: 113.3+ KB\n"
     ]
    }
   ],
   "source": [
    "df.info()"
   ]
  },
  {
   "cell_type": "markdown",
   "metadata": {},
   "source": [
    "## Tratamento das colunas"
   ]
  },
  {
   "cell_type": "markdown",
   "metadata": {},
   "source": [
    "> **CRIAÇÃO DOS CAMPOS: **\n",
    "- **estado_civil**\n",
    "- **sexo**"
   ]
  },
  {
   "cell_type": "markdown",
   "metadata": {},
   "source": [
    "> **JUSTIFICATIVA**\n",
    "- Poder fazer correlação se o sexo e o estado civil da pessoa interfere no sucesso ou não da disponibilidade de crédito.\n",
    "- Gráficos descritivos para visualizar distribuição dessas categorias perante o sucesso ou não."
   ]
  },
  {
   "cell_type": "code",
   "execution_count": 315,
   "metadata": {},
   "outputs": [],
   "source": [
    "def criar_sexo_e_estado_civil(coluna):\n",
    "    dados_separados = coluna.split(\":\")\n",
    "    \n",
    "    sexo = dados_separados[0].strip()\n",
    "    estado_civil = dados_separados[1].strip()\n",
    "\n",
    "    return pd.Series([sexo,estado_civil])"
   ]
  },
  {
   "cell_type": "code",
   "execution_count": 316,
   "metadata": {},
   "outputs": [],
   "source": [
    "df[[\"sexo\",\"estado_civil\"]] = df[\"estado_civil_sexo\"].apply(criar_sexo_e_estado_civil)"
   ]
  },
  {
   "cell_type": "markdown",
   "metadata": {},
   "source": [
    "> **REMOÇÃO DE COLUNAS: **\n",
    " - **telefone**\n",
    " - **trabalhador_estrangeiro**\n",
    " - **estado_civil_sexo ( coluna decomposta )**\n",
    " - **tipo_participacao_credito**"
   ]
  },
  {
   "cell_type": "markdown",
   "metadata": {},
   "source": [
    "> **JUSTIFICATIVA**\n",
    "- **Telefone:** não possui impacto significativo em estar ou não no dataset, visto que são 2 possíveis valores\n",
    "- **Trabalhador estrangeiro:** não possui muitos valores que possam impactar no resultado final\n",
    "- **Estado civil e sexo:** foi removida pois foi decomposta em outras colunas no dataset\n",
    "- **Tipo participacao credito**: foi removida pois não dá mais detalhes sobre o dado... somente uma descrição e nada mais. Juguei desnecessário o uso."
   ]
  },
  {
   "cell_type": "code",
   "execution_count": 317,
   "metadata": {},
   "outputs": [],
   "source": [
    "colunas = [\"telefone\",\"trabalhador_estrangeiro\", \"estado_civil_sexo\",\"gastos_adicionais\",\"tipo_participacao_credito\"]\n",
    "df = df.drop(colunas,axis=1)"
   ]
  },
  {
   "cell_type": "code",
   "execution_count": 318,
   "metadata": {},
   "outputs": [
    {
     "data": {
      "text/plain": [
       "montante               object\n",
       "duracao                 int64\n",
       "historico_credito      object\n",
       "proposito              object\n",
       "montante_credito        int64\n",
       "poupanca               object\n",
       "tempo_empregado        object\n",
       "taxa_parcelamento       int64\n",
       "tempo_moradia           int64\n",
       "propriedade            object\n",
       "idade                   int64\n",
       "habitacao              object\n",
       "quantidade_creditos     int64\n",
       "emprego                object\n",
       "dependentes             int64\n",
       "risco                   int64\n",
       "sexo                   object\n",
       "estado_civil           object\n",
       "dtype: object"
      ]
     },
     "execution_count": 318,
     "metadata": {},
     "output_type": "execute_result"
    }
   ],
   "source": [
    "df.dtypes"
   ]
  },
  {
   "cell_type": "markdown",
   "metadata": {},
   "source": [
    "## Análise descritiva dos dados"
   ]
  },
  {
   "cell_type": "code",
   "execution_count": null,
   "metadata": {},
   "outputs": [],
   "source": []
  },
  {
   "cell_type": "code",
   "execution_count": 319,
   "metadata": {},
   "outputs": [],
   "source": [
    "import seaborn as sns\n",
    "import matplotlib.pyplot as plt"
   ]
  },
  {
   "cell_type": "markdown",
   "metadata": {},
   "source": [
    "> **AGRUPAMENTO DA DISTRIBUIÇÃO DAS QUANTIDADES DE MONTANTES**"
   ]
  },
  {
   "cell_type": "code",
   "execution_count": 320,
   "metadata": {},
   "outputs": [
    {
     "data": {
      "text/plain": [
       "Text(0.5,1,'Contagem do montante por tipo')"
      ]
     },
     "execution_count": 320,
     "metadata": {},
     "output_type": "execute_result"
    },
    {
     "data": {
      "image/png": "[encoded data removed]",
      "text/plain": [
       "<matplotlib.figure.Figure at 0xaac9b30>"
      ]
     },
     "metadata": {},
     "output_type": "display_data"
    }
   ],
   "source": [
    "a = sns.countplot(x=\"montante\",data=df)\n",
    "a.set_title(\"Contagem do montante por tipo\")"
   ]
  },
  {
   "cell_type": "markdown",
   "metadata": {},
   "source": [
    "> **ANÁLISE DE CORRELAÇÃO ENTRE AS VARIÁVEIS DO DATASET**"
   ]
  },
  {
   "cell_type": "code",
   "execution_count": 321,
   "metadata": {},
   "outputs": [
    {
     "data": {
      "text/plain": [
       "<matplotlib.axes._subplots.AxesSubplot at 0xaa99950>"
      ]
     },
     "execution_count": 321,
     "metadata": {},
     "output_type": "execute_result"
    },
    {
     "data": {
      "image/png": "[encoded data removed]",
      "text/plain": [
       "<matplotlib.figure.Figure at 0x1006fc10>"
      ]
     },
     "metadata": {},
     "output_type": "display_data"
    }
   ],
   "source": [
    "plt.figure(figsize=(15, 5))\n",
    "sns.heatmap(df.corr(),annot=True)"
   ]
  },
  {
   "cell_type": "code",
   "execution_count": 322,
   "metadata": {},
   "outputs": [
    {
     "data": {
      "text/plain": [
       "<matplotlib.axes._subplots.AxesSubplot at 0x63e9cb0>"
      ]
     },
     "execution_count": 322,
     "metadata": {},
     "output_type": "execute_result"
    },
    {
     "data": {
      "image/png": "[encoded data removed]",
      "text/plain": [
       "<matplotlib.figure.Figure at 0xab52050>"
      ]
     },
     "metadata": {},
     "output_type": "display_data"
    }
   ],
   "source": [
    "plt.figure(figsize=(15, 5))\n",
    "sns.swarmplot(x=\"historico_credito\",y=\"montante_credito\",data=df)"
   ]
  },
  {
   "cell_type": "code",
   "execution_count": 323,
   "metadata": {},
   "outputs": [
    {
     "data": {
      "text/plain": [
       "<matplotlib.axes._subplots.AxesSubplot at 0xfeb0e50>"
      ]
     },
     "execution_count": 323,
     "metadata": {},
     "output_type": "execute_result"
    },
    {
     "data": {
      "image/png": "[encoded data removed]",
      "text/plain": [
       "<matplotlib.figure.Figure at 0xaa16190>"
      ]
     },
     "metadata": {},
     "output_type": "display_data"
    }
   ],
   "source": [
    "plt.figure(figsize=(15, 5))\n",
    "sns.distplot(df.idade)"
   ]
  },
  {
   "cell_type": "code",
   "execution_count": 324,
   "metadata": {},
   "outputs": [
    {
     "data": {
      "text/html": [
       "<div>\n",
       "<style scoped>\n",
       "    .dataframe tbody tr th:only-of-type {\n",
       "        vertical-align: middle;\n",
       "    }\n",
       "\n",
       "    .dataframe tbody tr th {\n",
       "        vertical-align: top;\n",
       "    }\n",
       "\n",
       "    .dataframe thead th {\n",
       "        text-align: right;\n",
       "    }\n",
       "</style>\n",
       "<table border=\"1\" class=\"dataframe\">\n",
       "  <thead>\n",
       "    <tr style=\"text-align: right;\">\n",
       "      <th></th>\n",
       "      <th>montante</th>\n",
       "      <th>duracao</th>\n",
       "      <th>historico_credito</th>\n",
       "      <th>proposito</th>\n",
       "      <th>montante_credito</th>\n",
       "      <th>poupanca</th>\n",
       "      <th>tempo_empregado</th>\n",
       "      <th>taxa_parcelamento</th>\n",
       "      <th>tempo_moradia</th>\n",
       "      <th>propriedade</th>\n",
       "      <th>idade</th>\n",
       "      <th>habitacao</th>\n",
       "      <th>quantidade_creditos</th>\n",
       "      <th>emprego</th>\n",
       "      <th>dependentes</th>\n",
       "      <th>risco</th>\n",
       "      <th>sexo</th>\n",
       "      <th>estado_civil</th>\n",
       "    </tr>\n",
       "  </thead>\n",
       "  <tbody>\n",
       "    <tr>\n",
       "      <th>0</th>\n",
       "      <td>&lt; 0</td>\n",
       "      <td>6</td>\n",
       "      <td>critical account/other credits existing (not a...</td>\n",
       "      <td>radio/television</td>\n",
       "      <td>1169</td>\n",
       "      <td>None</td>\n",
       "      <td>&gt;= 7</td>\n",
       "      <td>4</td>\n",
       "      <td>4</td>\n",
       "      <td>real state</td>\n",
       "      <td>67</td>\n",
       "      <td>own</td>\n",
       "      <td>2</td>\n",
       "      <td>skilled employee/official</td>\n",
       "      <td>1</td>\n",
       "      <td>1</td>\n",
       "      <td>male</td>\n",
       "      <td>single</td>\n",
       "    </tr>\n",
       "    <tr>\n",
       "      <th>1</th>\n",
       "      <td>&lt; 199</td>\n",
       "      <td>48</td>\n",
       "      <td>existing credits paid back duly till now</td>\n",
       "      <td>radio/television</td>\n",
       "      <td>5951</td>\n",
       "      <td>&lt; 100</td>\n",
       "      <td>&lt; 4</td>\n",
       "      <td>2</td>\n",
       "      <td>2</td>\n",
       "      <td>real state</td>\n",
       "      <td>22</td>\n",
       "      <td>own</td>\n",
       "      <td>1</td>\n",
       "      <td>skilled employee/official</td>\n",
       "      <td>1</td>\n",
       "      <td>2</td>\n",
       "      <td>female</td>\n",
       "      <td>divorced/separated/married</td>\n",
       "    </tr>\n",
       "    <tr>\n",
       "      <th>2</th>\n",
       "      <td>None</td>\n",
       "      <td>12</td>\n",
       "      <td>critical account/other credits existing (not a...</td>\n",
       "      <td>education</td>\n",
       "      <td>2096</td>\n",
       "      <td>&lt; 100</td>\n",
       "      <td>&lt; 7</td>\n",
       "      <td>2</td>\n",
       "      <td>3</td>\n",
       "      <td>real state</td>\n",
       "      <td>49</td>\n",
       "      <td>own</td>\n",
       "      <td>1</td>\n",
       "      <td>unskilled-resident</td>\n",
       "      <td>2</td>\n",
       "      <td>1</td>\n",
       "      <td>male</td>\n",
       "      <td>single</td>\n",
       "    </tr>\n",
       "    <tr>\n",
       "      <th>3</th>\n",
       "      <td>&lt; 0</td>\n",
       "      <td>42</td>\n",
       "      <td>existing credits paid back duly till now</td>\n",
       "      <td>furniture/equipment</td>\n",
       "      <td>7882</td>\n",
       "      <td>&lt; 100</td>\n",
       "      <td>&lt; 7</td>\n",
       "      <td>2</td>\n",
       "      <td>4</td>\n",
       "      <td>building society/life insurance</td>\n",
       "      <td>45</td>\n",
       "      <td>for free</td>\n",
       "      <td>1</td>\n",
       "      <td>skilled employee/official</td>\n",
       "      <td>2</td>\n",
       "      <td>1</td>\n",
       "      <td>male</td>\n",
       "      <td>single</td>\n",
       "    </tr>\n",
       "    <tr>\n",
       "      <th>4</th>\n",
       "      <td>&lt; 0</td>\n",
       "      <td>24</td>\n",
       "      <td>delay in paying off in the past</td>\n",
       "      <td>car(new)</td>\n",
       "      <td>4870</td>\n",
       "      <td>&lt; 100</td>\n",
       "      <td>&lt; 4</td>\n",
       "      <td>3</td>\n",
       "      <td>4</td>\n",
       "      <td>unknown/no property</td>\n",
       "      <td>53</td>\n",
       "      <td>for free</td>\n",
       "      <td>2</td>\n",
       "      <td>skilled employee/official</td>\n",
       "      <td>2</td>\n",
       "      <td>2</td>\n",
       "      <td>male</td>\n",
       "      <td>single</td>\n",
       "    </tr>\n",
       "  </tbody>\n",
       "</table>\n",
       "</div>"
      ],
      "text/plain": [
       "  montante  duracao                                  historico_credito  \\\n",
       "0      < 0        6  critical account/other credits existing (not a...   \n",
       "1    < 199       48           existing credits paid back duly till now   \n",
       "2     None       12  critical account/other credits existing (not a...   \n",
       "3      < 0       42           existing credits paid back duly till now   \n",
       "4      < 0       24                    delay in paying off in the past   \n",
       "\n",
       "             proposito  montante_credito poupanca tempo_empregado  \\\n",
       "0     radio/television              1169     None            >= 7   \n",
       "1     radio/television              5951    < 100             < 4   \n",
       "2            education              2096    < 100             < 7   \n",
       "3  furniture/equipment              7882    < 100             < 7   \n",
       "4             car(new)              4870    < 100             < 4   \n",
       "\n",
       "   taxa_parcelamento  tempo_moradia                      propriedade  idade  \\\n",
       "0                  4              4                       real state     67   \n",
       "1                  2              2                       real state     22   \n",
       "2                  2              3                       real state     49   \n",
       "3                  2              4  building society/life insurance     45   \n",
       "4                  3              4              unknown/no property     53   \n",
       "\n",
       "  habitacao  quantidade_creditos                    emprego  dependentes  \\\n",
       "0       own                    2  skilled employee/official            1   \n",
       "1       own                    1  skilled employee/official            1   \n",
       "2       own                    1         unskilled-resident            2   \n",
       "3  for free                    1  skilled employee/official            2   \n",
       "4  for free                    2  skilled employee/official            2   \n",
       "\n",
       "   risco    sexo                estado_civil  \n",
       "0      1    male                      single  \n",
       "1      2  female  divorced/separated/married  \n",
       "2      1    male                      single  \n",
       "3      1    male                      single  \n",
       "4      2    male                      single  "
      ]
     },
     "execution_count": 324,
     "metadata": {},
     "output_type": "execute_result"
    }
   ],
   "source": [
    "df.head()"
   ]
  },
  {
   "cell_type": "markdown",
   "metadata": {},
   "source": [
    "# Limpando os dados para aplicação dos algoritmos"
   ]
  },
  {
   "cell_type": "code",
   "execution_count": 325,
   "metadata": {},
   "outputs": [],
   "source": [
    "def mapear_valores(coluna):\n",
    "    valores = tuple(set(df[coluna].values))\n",
    "\n",
    "    associados = tuple(range(len(valores)))\n",
    "\n",
    "    df[coluna].replace(valores,associados,inplace=True)"
   ]
  },
  {
   "cell_type": "code",
   "execution_count": 326,
   "metadata": {},
   "outputs": [],
   "source": [
    "colunas = [\"historico_credito\",\"montante\",\"proposito\",\"poupanca\",\n",
    "           \"tempo_empregado\",\"propriedade\",\"habitacao\",\n",
    "           \"emprego\",\"sexo\",\"estado_civil\"]\n",
    "\n",
    "for coluna in colunas:\n",
    "    mapear_valores(coluna)"
   ]
  },
  {
   "cell_type": "markdown",
   "metadata": {},
   "source": [
    "# Aplicando algoritmos"
   ]
  },
  {
   "cell_type": "markdown",
   "metadata": {},
   "source": [
    "> **SEPARAÇÃO DOS DADOS PARA TREINO E TESTE**"
   ]
  },
  {
   "cell_type": "code",
   "execution_count": 348,
   "metadata": {},
   "outputs": [],
   "source": [
    "from sklearn.model_selection import train_test_split"
   ]
  },
  {
   "cell_type": "code",
   "execution_count": 349,
   "metadata": {},
   "outputs": [],
   "source": [
    "x = df.drop('risco', 1).values\n",
    "y = df[\"risco\"].values\n",
    "\n",
    "x_treino, x_teste, y_treino, y_teste = train_test_split(x, y)"
   ]
  },
  {
   "cell_type": "markdown",
   "metadata": {},
   "source": [
    "### Algoritmo Naive Bayes"
   ]
  },
  {
   "cell_type": "code",
   "execution_count": 350,
   "metadata": {},
   "outputs": [],
   "source": [
    "def aplicar_modelo(modelo, x_treino, y_treino, x_teste, y_teste):\n",
    "    \n",
    "    modelo.fit(x_treino,y_treino)\n",
    "    \n",
    "    risco = modelo.predict(x_teste)\n",
    "    \n",
    "    return accuracy_score(y_teste,risco)"
   ]
  },
  {
   "cell_type": "code",
   "execution_count": 351,
   "metadata": {},
   "outputs": [],
   "source": [
    "from sklearn.naive_bayes import MultinomialNB\n",
    "from sklearn.metrics import accuracy_score\n",
    "\n",
    "naive = MultinomialNB()\n",
    "\n",
    "resultado = aplicar_modelo(naive,x_treino,y_treino, x_teste,y_teste)"
   ]
  },
  {
   "cell_type": "code",
   "execution_count": 352,
   "metadata": {},
   "outputs": [
    {
     "name": "stdout",
     "output_type": "stream",
     "text": [
      "Naive Bayes: 0.616\n"
     ]
    }
   ],
   "source": [
    "print(\"Naive Bayes: {}\".format(resultado))"
   ]
  },
  {
   "cell_type": "markdown",
   "metadata": {},
   "source": [
    "### Algoritmo Adaboost"
   ]
  },
  {
   "cell_type": "code",
   "execution_count": 353,
   "metadata": {},
   "outputs": [],
   "source": [
    "from sklearn.ensemble import AdaBoostClassifier\n",
    "\n",
    "ada_boost = AdaBoostClassifier()\n",
    "\n",
    "resultado = aplicar_modelo(ada_boost,x_treino,y_treino, x_teste,y_teste)"
   ]
  },
  {
   "cell_type": "code",
   "execution_count": 354,
   "metadata": {},
   "outputs": [
    {
     "name": "stdout",
     "output_type": "stream",
     "text": [
      "Ada boost: 0.744\n"
     ]
    }
   ],
   "source": [
    "print(\"Ada boost: {}\".format(resultado))"
   ]
  },
  {
   "cell_type": "markdown",
   "metadata": {},
   "source": [
    "### Algoritmo RandomForest"
   ]
  },
  {
   "cell_type": "code",
   "execution_count": 355,
   "metadata": {},
   "outputs": [],
   "source": [
    "from sklearn.ensemble import RandomForestClassifier\n",
    "\n",
    "random_forest = RandomForestClassifier()\n",
    "\n",
    "resultado = aplicar_modelo(random_forest,x_treino,y_treino, x_teste,y_teste)"
   ]
  },
  {
   "cell_type": "code",
   "execution_count": 356,
   "metadata": {},
   "outputs": [
    {
     "name": "stdout",
     "output_type": "stream",
     "text": [
      "Random Forest: 0.716\n"
     ]
    }
   ],
   "source": [
    "print(\"Random Forest: {}\".format(resultado))"
   ]
  },
  {
   "cell_type": "markdown",
   "metadata": {},
   "source": [
    "### Algoritmo Regressão Logística"
   ]
  },
  {
   "cell_type": "code",
   "execution_count": 357,
   "metadata": {},
   "outputs": [],
   "source": [
    "from sklearn.linear_model import LogisticRegression\n",
    "\n",
    "logistic_regression = LogisticRegression()\n",
    "\n",
    "resultado = aplicar_modelo(logistic_regression,x_treino,y_treino, x_teste,y_teste)"
   ]
  },
  {
   "cell_type": "code",
   "execution_count": 358,
   "metadata": {},
   "outputs": [
    {
     "name": "stdout",
     "output_type": "stream",
     "text": [
      "Regressão Logística: 0.744\n"
     ]
    }
   ],
   "source": [
    "print(\"Regressão Logística: {}\".format(resultado))"
   ]
  },
  {
   "cell_type": "markdown",
   "metadata": {},
   "source": [
    "### Algoritmo OneVsOne"
   ]
  },
  {
   "cell_type": "code",
   "execution_count": 359,
   "metadata": {},
   "outputs": [],
   "source": [
    "from sklearn.svm import LinearSVC"
   ]
  },
  {
   "cell_type": "code",
   "execution_count": 360,
   "metadata": {},
   "outputs": [],
   "source": [
    "from sklearn.multiclass import OneVsOneClassifier"
   ]
  },
  {
   "cell_type": "code",
   "execution_count": 361,
   "metadata": {},
   "outputs": [],
   "source": [
    "one_vs_one = OneVsOneClassifier(LinearSVC(random_state = 0))\n",
    "\n",
    "resultado = aplicar_modelo(one_vs_one,x_treino,y_treino, x_teste,y_teste)"
   ]
  },
  {
   "cell_type": "code",
   "execution_count": 362,
   "metadata": {},
   "outputs": [
    {
     "name": "stdout",
     "output_type": "stream",
     "text": [
      "One vs One classifier: 0.712\n"
     ]
    }
   ],
   "source": [
    "print(\"One vs One classifier: {}\".format(resultado))"
   ]
  },
  {
   "cell_type": "markdown",
   "metadata": {},
   "source": [
    "### Algoritmo OneVsRest"
   ]
  },
  {
   "cell_type": "code",
   "execution_count": 363,
   "metadata": {},
   "outputs": [],
   "source": [
    "from sklearn.multiclass import OneVsRestClassifier\n",
    "\n",
    "one_vs_rest = OneVsRestClassifier(LinearSVC(random_state = 0))\n",
    "\n",
    "resultado = aplicar_modelo(one_vs_rest,x_treino,y_treino, x_teste,y_teste)"
   ]
  },
  {
   "cell_type": "code",
   "execution_count": 364,
   "metadata": {},
   "outputs": [
    {
     "name": "stdout",
     "output_type": "stream",
     "text": [
      "One vs Rest classifier : 0.712\n"
     ]
    }
   ],
   "source": [
    "print(\"One vs Rest classifier : {}\".format(resultado))"
   ]
  },
  {
   "cell_type": "markdown",
   "metadata": {},
   "source": [
    "### Aplicando KNN"
   ]
  },
  {
   "cell_type": "code",
   "execution_count": 365,
   "metadata": {},
   "outputs": [],
   "source": [
    "from sklearn.neighbors import KNeighborsClassifier\n",
    "\n",
    "knn = KNeighborsClassifier()\n",
    "\n",
    "resultado = aplicar_modelo(knn,x_treino,y_treino, x_teste,y_teste)"
   ]
  },
  {
   "cell_type": "code",
   "execution_count": 366,
   "metadata": {},
   "outputs": [
    {
     "name": "stdout",
     "output_type": "stream",
     "text": [
      "KNN classifier: 0.656\n"
     ]
    }
   ],
   "source": [
    "print(\"KNN classifier: {}\".format(resultado))"
   ]
  },
  {
   "cell_type": "markdown",
   "metadata": {},
   "source": [
    "### Aplicando K-folding"
   ]
  },
  {
   "cell_type": "code",
   "execution_count": 367,
   "metadata": {},
   "outputs": [
    {
     "name": "stdout",
     "output_type": "stream",
     "text": [
      "Algoritmo: MultinomialNB'>\n",
      " Resultado: 0.63\n",
      "\n",
      "Algoritmo: AdaBoostClassifier'>\n",
      " Resultado: 0.73\n",
      "\n",
      "Algoritmo: RandomForestClassifier'>\n",
      " Resultado: 0.74\n",
      "\n",
      "Algoritmo: LogisticRegression'>\n",
      " Resultado: 0.73\n",
      "\n",
      "Algoritmo: OneVsOneClassifier'>\n",
      " Resultado: 0.59\n",
      "\n",
      "Algoritmo: OneVsRestClassifier'>\n",
      " Resultado: 0.59\n",
      "\n",
      "Algoritmo: KNeighborsClassifier'>\n",
      " Resultado: 0.65\n",
      "\n"
     ]
    }
   ],
   "source": [
    "from sklearn.cross_validation import cross_val_score\n",
    "import numpy as np\n",
    "\n",
    "algoritmos = [MultinomialNB(), AdaBoostClassifier(), \n",
    "              RandomForestClassifier(), LogisticRegression(), \n",
    "              OneVsOneClassifier(LinearSVC(random_state = 0)),\n",
    "              OneVsRestClassifier(LinearSVC(random_state = 0)),\n",
    "              KNeighborsClassifier()\n",
    "             ]\n",
    "\n",
    "resultados = []\n",
    "\n",
    "k_folding = len(df.columns) // 2\n",
    "\n",
    "for modelo in algoritmos:\n",
    "    \n",
    "    resultado = cross_val_score(modelo,x_treino,y_treino,cv=k_folding)\n",
    "    resultados.append(np.mean(resultado))\n",
    "    \n",
    "    print(\"Algoritmo: {}\\n Resultado: {:.2f}\\n\".format(str(modelo.__class__).split(\".\")[-1], np.mean(resultado)))"
   ]
  },
  {
   "cell_type": "code",
   "execution_count": 346,
   "metadata": {},
   "outputs": [],
   "source": [
    "resultados_series = pd.Series(resultados, index=['Naive Bayes','AdaBoostClassifier',\n",
    "                                       'RandomForestClassifier','LogisticRegression',\n",
    "                                       'OneVsOneClassifier','OneVsRestClassifier',\n",
    "                                      'KNeighborsClassifier'])"
   ]
  },
  {
   "cell_type": "code",
   "execution_count": 347,
   "metadata": {},
   "outputs": [
    {
     "data": {
      "text/plain": [
       "<matplotlib.axes._subplots.AxesSubplot at 0x106c8d10>"
      ]
     },
     "execution_count": 347,
     "metadata": {},
     "output_type": "execute_result"
    },
    {
     "data": {
      "image/png": "[encoded data removed]",
      "text/plain": [
       "<matplotlib.figure.Figure at 0x106c8750>"
      ]
     },
     "metadata": {},
     "output_type": "display_data"
    }
   ],
   "source": [
    "resultados_series.plot(kind=\"bar\")"
   ]
  },
  {
   "cell_type": "code",
   "execution_count": null,
   "metadata": {},
   "outputs": [],
   "source": []
  }
 ],
 "metadata": {
  "kernelspec": {
   "display_name": "Python 3",
   "language": "python",
   "name": "python3"
  },
  "language_info": {
   "codemirror_mode": {
    "name": "ipython",
    "version": 3
   },
   "file_extension": ".py",
   "mimetype": "text/x-python",
   "name": "python",
   "nbconvert_exporter": "python",
   "pygments_lexer": "ipython3",
   "version": "3.6.4"
  }
 },
 "nbformat": 4,
 "nbformat_minor": 2
}
